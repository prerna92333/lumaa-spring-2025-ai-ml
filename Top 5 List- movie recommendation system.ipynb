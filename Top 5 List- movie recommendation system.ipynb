{
 "cells": [
  {
   "cell_type": "code",
   "execution_count": 9,
   "id": "50fe175d",
   "metadata": {},
   "outputs": [
    {
     "name": "stdout",
     "output_type": "stream",
     "text": [
      "Enter your movie preferences: salary expectation\n",
      "                                    title                        genres\n",
      "9741  Andrew Dice Clay: Dice Rules (1991)                        Comedy\n",
      "3244                   Cats & Dogs (2001)               Children|Comedy\n",
      "3251           Beach Blanket Bingo (1965)                Comedy|Musical\n",
      "3250                 Another Woman (1988)                         Drama\n",
      "3249                         Alice (1990)  Comedy|Drama|Fantasy|Romance\n",
      "\n",
      "Salary Expectation: $23-35 per hour\n"
     ]
    }
   ],
   "source": [
    "import pandas as pd\n",
    "import numpy as np\n",
    "from sklearn.feature_extraction.text import TfidfVectorizer\n",
    "from sklearn.metrics.pairwise import cosine_similarity\n",
    "\n",
    "movies_path = 'movies.csv'\n",
    "df_movies = pd.read_csv(movies_path)\n",
    "\n",
    "def preprocess_text(text):\n",
    "    \"\"\"Preprocess text by converting to lowercase and stripping whitespace.\"\"\"\n",
    "    return text.lower().strip()\n",
    "\n",
    "def recommend_movies(user_query, dataset, top_n=5):\n",
    "    \"\"\"Recommend top N similar movies based on content similarity.\"\"\"\n",
    "    dataset['processed_genres'] = dataset['genres'].fillna('').apply(preprocess_text)\n",
    "    \n",
    "    # Using TF-IDF Vectorization\n",
    "    vectorizer = TfidfVectorizer(stop_words='english')\n",
    "    tfidf_matrix = vectorizer.fit_transform(dataset['processed_genres'])\n",
    "    \n",
    "    # Transforming user query to TF-IDF vector\n",
    "    query_vector = vectorizer.transform([preprocess_text(user_query)])\n",
    "    \n",
    "    # Compute the cosine similarity\n",
    "    similarity_scores = cosine_similarity(query_vector, tfidf_matrix).flatten()\n",
    "    \n",
    "    # Get top N recommendations\n",
    "    top_indices = np.argsort(similarity_scores)[-top_n:][::-1]\n",
    "    recommendations = dataset.iloc[top_indices]\n",
    "    \n",
    "    return recommendations[['title', 'genres']]\n",
    "\n",
    "if __name__ == \"__main__\":\n",
    "    user_input = input(\"Enter your movie preferences: \")\n",
    "    recommendations = recommend_movies(user_input, df_movies)\n",
    "    \n",
    "    print(recommendations)\n",
    "\n",
    "    # Salary Expectation\n",
    "    salary_expectation = \"$23-35 per hour\"\n",
    "    print(f\"\\nSalary Expectation: {salary_expectation}\")\n"
   ]
  },
  {
   "cell_type": "code",
   "execution_count": null,
   "id": "e304f9fb",
   "metadata": {},
   "outputs": [],
   "source": []
  },
  {
   "cell_type": "code",
   "execution_count": null,
   "id": "079d9f05",
   "metadata": {},
   "outputs": [],
   "source": []
  },
  {
   "cell_type": "code",
   "execution_count": null,
   "id": "28f606e5",
   "metadata": {},
   "outputs": [],
   "source": []
  }
 ],
 "metadata": {
  "kernelspec": {
   "display_name": "Python 3 (ipykernel)",
   "language": "python",
   "name": "python3"
  },
  "language_info": {
   "codemirror_mode": {
    "name": "ipython",
    "version": 3
   },
   "file_extension": ".py",
   "mimetype": "text/x-python",
   "name": "python",
   "nbconvert_exporter": "python",
   "pygments_lexer": "ipython3",
   "version": "3.11.5"
  }
 },
 "nbformat": 4,
 "nbformat_minor": 5
}
